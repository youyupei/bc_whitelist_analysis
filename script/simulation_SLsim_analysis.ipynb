{
 "cells": [
  {
   "cell_type": "markdown",
   "id": "90f09c4f",
   "metadata": {
    "heading_collapsed": true
   },
   "source": [
    "# Simulate single cell nanopore reads"
   ]
  },
  {
   "cell_type": "code",
   "execution_count": 27,
   "id": "682b623e",
   "metadata": {
    "code_folding": [
     0
    ],
    "hidden": true
   },
   "outputs": [],
   "source": [
    "# load 10x barcode whitelist\n",
    "whole_whitelist = []\n",
    "with open(\"../data/3M-february-2018.txt\", 'r') as f:\n",
    "    for line in f:\n",
    "        whole_whitelist.append(line.strip())\n",
    "whole_whitelist = set(whole_whitelist)\n",
    "\n",
    "# Use BC information from short reads (by Cellranger)'\n",
    "\n",
    "# Cellranger output\n",
    "filtered_matrix_h5 = \"../data/hiPSC_diff/cellranger/filtered_feature_bc_matrix.h5\"\n",
    "raw_matrix_h5 = \"../data/hiPSC_diff/cellranger/raw_feature_bc_matrix.h5\"\n",
    "\n",
    "cr_filtered_bc = set(filtered_feature_bc_matrix.get_barcode_str())\n",
    "cr_count_d = pd.DataFrame({\n",
    "    \"BC\": raw_feature_bc_matrix.get_barcode_str(),\n",
    "    \"counts\": raw_feature_bc_matrix.get_barcode_umi_count()\n",
    "})\n",
    "cr_count_d['is_cell'] = cr_count_d.BC.isin(cr_filtered_bc)\n",
    "cr_count_d = cr_count_d.sort_values(by=['counts'], ascending = False).reset_index()\n",
    "cr_count_d = cr_count_d[cr_count_d.counts > 0]"
   ]
  },
  {
   "cell_type": "code",
   "execution_count": 29,
   "id": "b87edb0b",
   "metadata": {
    "code_folding": [
     0
    ],
    "hidden": true
   },
   "outputs": [],
   "source": [
    "# save the UMI count per BC from short read\n",
    "cr_count_d.to_csv('../data/SR_bc.csv',header=True)"
   ]
  },
  {
   "cell_type": "markdown",
   "id": "9c66d90b",
   "metadata": {
    "hidden": true
   },
   "source": [
    "## Running the simulation\n",
    "The following code was run on ternimal:\n",
    "\n",
    "### generate perfect reads\n",
    "```bash\n",
    "PERFECT_READ=/data/projects/punim0614/yupei/project/SC_demultiplex_proj/simulation/perfect_read/1000cell_perfect_read.fa\n",
    "\n",
    "python3 ~/github_repo/youyupei/sc_long_read_sim/bin/perfect_read_generator.py -o $PERFECT_READ -i ~/github_repo/youyupei/sc_long_read_sim/data/1000_simulated_cell_umi.csv --thread 32 -r \n",
    "```\n",
    "\n",
    "### introduce nanopore error\n",
    "```bash\n",
    "cd /data/projects/punim0614/yupei/project/SC_demultiplex_proj/simulation/SLsim_sample\n",
    "python3 ~/github_repo/youyupei/sc_long_read_sim/bin/error_simulator.py --thread 32 --badread-identity 94,1.35,100 -o 94_1.35_100_ideal.fq -t ../perfect_read/1000cell_perfect_read.fa --badread-qscore-model ideal --batch-size 5000\n",
    "```\n",
    "**NOTE:**\n",
    "The read accruacy distribution is close to what we have observed in real data. We used ideal qscore model from badread because the other models didn't give us realistic distribution of the q score. Although the \"ideal qscore\" model was also not the best, it did show different distribution between the minimum Qscores of error-free putative barcodes and those from error-containing putative barcodes (This is what we have observed in the real data).\n",
    "\n",
    "**Command line output:** \n",
    "```\n",
    "Loading error model from /home/youyupei/.conda/envs/blaze/lib/python3.7/site-packages/badread/error_models/nanopore2020.gz\n",
    "  done: loaded error distributions for 16384 7-mers\n",
    "\n",
    "Using an ideal qscore model\n",
    "\n",
    "Generating read identities from a beta distribution:\n",
    "  mean  =  94%      shape parameters:\n",
    "  max   = 100%        alpha = 2.8996e+02\n",
    "  stdev = 1.4%        beta  = 1.8508e+01\n",
    "  │                                            ▌     \n",
    "  │                                           ▌▌     \n",
    "  │                                           ▌▌     \n",
    "  │                                           ▌▌▌    \n",
    "  │                                          ▌▌▌▌    \n",
    "  │                                          ▌▌▌▌    \n",
    "  │                                         ▖▌▌▌▌    \n",
    "  │                                        ▖▌▌▌▌▌▌   \n",
    "  ├─────────┬─────────┬─────────┬─────────┬─────────┐\n",
    "  50        60        70        80        90        100\n",
    "  \n",
    "\n",
    "\n",
    "```\n",
    "\n",
    "### run blaze \n",
    "```bash\n",
    "python3 ~/github_repo/shimlab/BLAZE/bin/blaze.py --expect-cell 1000 --threads 32 template.fa\n",
    "\n",
    "```\n",
    "  \n",
    "### run sockeye\n",
    "```\n",
    "  snakemake --use-conda  --core all -pr all\n",
    "```"
   ]
  },
  {
   "cell_type": "markdown",
   "id": "a9936642",
   "metadata": {},
   "source": [
    "# Simulation data analysis"
   ]
  },
  {
   "cell_type": "code",
   "execution_count": 1,
   "id": "0016ece2",
   "metadata": {},
   "outputs": [],
   "source": [
    "import pandas as pd\n",
    "import numpy as np \n",
    "from tqdm import tqdm\n",
    "from matplotlib import pyplot as plt\n",
    "import collections\n",
    "import upsetplot\n",
    "\n",
    "import analysis_functions as af"
   ]
  },
  {
   "cell_type": "code",
   "execution_count": 2,
   "id": "d3cffb61",
   "metadata": {},
   "outputs": [],
   "source": [
    "# config filename:\n",
    "# Cellranger output\n",
    "filtered_matrix_h5 = \"../data/hiPSC_diff/cellranger/filtered_feature_bc_matrix.h5\"\n",
    "raw_matrix_h5 = \"../data/hiPSC_diff/cellranger/raw_feature_bc_matrix.h5\"\n",
    "\n",
    "# BLAZE output\n",
    "blaze_raw_bc_fn = '../data/simulation/blaze/putative_bc.csv'\n",
    "\n",
    "# sockeye\n",
    "sock_whitelist = '../data/simulation/sockeye/whitelist.tsv'\n",
    "sock_count = '../data/simulation/sockeye/uncorrected_bc_counts.tsv'\n",
    "\n",
    "# output\n",
    "out_dir = '../data/simulation/'"
   ]
  },
  {
   "cell_type": "code",
   "execution_count": 3,
   "id": "cd27964c",
   "metadata": {},
   "outputs": [],
   "source": [
    "def reverse_complement(seq):\n",
    "    '''\n",
    "    Args: <str>\n",
    "        queried seq\n",
    "    Returns: <str>\n",
    "        reverse_complement seq\n",
    "    '''\n",
    "    comp = {'A': 'T', 'C': 'G', 'G': 'C', 'T': 'A', \n",
    "                    'a': 't', 'c': 'g', 'g': 'c', 't': 'a'}\n",
    "    letters = \\\n",
    "        [comp[base] if base in comp.keys() else base for base in seq]\n",
    "    return ''.join(letters)[::-1]"
   ]
  },
  {
   "cell_type": "markdown",
   "id": "0cd1381d",
   "metadata": {},
   "source": [
    "## Prepare ground truth\n",
    "\n",
    "**Note**: In this analysis the ground truth is exactly the cell ranger result. Because all the simulation is based on the short reads barcodes and their frequencies."
   ]
  },
  {
   "cell_type": "code",
   "execution_count": 4,
   "id": "8186eb76",
   "metadata": {
    "code_folding": []
   },
   "outputs": [],
   "source": [
    "# get cell ranger matrix\n",
    "class cr_matrix:\n",
    "    def __init__(self, mat_file):\n",
    "        self.mat = af.get_matrix_from_h5(mat_file)\n",
    "    \n",
    "    def get_barcode_umi_count(self):\n",
    "        '''\n",
    "        Get the barcode umi count (columns sum) of the matrix\n",
    "        return:\n",
    "            np.array\n",
    "        '''\n",
    "        return np.array(self.mat.matrix.sum(0)).reshape(-1)\n",
    "    def get_barcode_str(self, as_str = True):\n",
    "        '''\n",
    "        get the barcode stored in the matrix.hs\n",
    "        \n",
    "        Option:\n",
    "            as_str: <bool> whether convert the barcode to str (True by default)\n",
    "        return:\n",
    "            np.array of barcodes\n",
    "        '''\n",
    "        if as_str:\n",
    "            return np.array([x.decode('UTF-8').split('-')[0] for x in self.mat.barcodes])\n",
    "        else:\n",
    "            return self.mat.barcodes\n",
    "\n",
    "\n",
    "filtered_feature_bc_matrix = cr_matrix(filtered_matrix_h5)\n",
    "raw_feature_bc_matrix = cr_matrix(raw_matrix_h5)"
   ]
  },
  {
   "cell_type": "code",
   "execution_count": 5,
   "id": "a0d8a819",
   "metadata": {
    "code_folding": []
   },
   "outputs": [],
   "source": [
    "cr_filtered_bc = set(filtered_feature_bc_matrix.get_barcode_str())\n",
    "cr_count_d = pd.DataFrame({\n",
    "    \"BC\": raw_feature_bc_matrix.get_barcode_str(),\n",
    "    \"counts\": raw_feature_bc_matrix.get_barcode_umi_count()\n",
    "})\n",
    "\n"
   ]
  },
  {
   "cell_type": "code",
   "execution_count": 6,
   "id": "c6055dc2",
   "metadata": {},
   "outputs": [],
   "source": [
    "cr_count_d['is_cell'] = cr_count_d.BC.isin(cr_filtered_bc)\n",
    "cr_count_d = cr_count_d.sort_values(by=['counts'], ascending = False).reset_index()"
   ]
  },
  {
   "cell_type": "markdown",
   "id": "ad6bb573",
   "metadata": {},
   "source": [
    "## BLAZE"
   ]
  },
  {
   "cell_type": "code",
   "execution_count": 7,
   "id": "586deb3e",
   "metadata": {
    "code_folding": []
   },
   "outputs": [],
   "source": [
    "# load BLAZE result and correctness of putative barcode\n",
    "\n",
    "# blaze raw bc table\n",
    "putative_bc_d = pd.read_csv(blaze_raw_bc_fn)\n",
    "# add ground truth\n",
    "putative_bc_d['true_BC'] = putative_bc_d.read_id.apply(lambda x: x.split('_')[0])\n",
    "putative_bc_d['BC_correctness'] = putative_bc_d.putative_bc == putative_bc_d.true_BC"
   ]
  },
  {
   "cell_type": "code",
   "execution_count": 57,
   "id": "8aadde55",
   "metadata": {
    "code_folding": [],
    "scrolled": false
   },
   "outputs": [
    {
     "name": "stdout",
     "output_type": "stream",
     "text": [
      "\n",
      "Putative barcode accruacy: 38.60%\n",
      "\n",
      "Proportion of putative barcodes with minQ >= 15: 38.69% \n",
      "Accuracy of putative barcodes with minQ >= 15: 88.31%\n",
      "\n",
      "Proportion of putative barcodes with minQ >= 7: 42.20% \n",
      "Accuracy of putative barcodes with minQ >= 7: 85.27%\n",
      "\n"
     ]
    }
   ],
   "source": [
    "# Summary\n",
    "print(f\"\"\"\n",
    "Putative barcode accruacy: {putative_bc_d.BC_correctness.mean()*100:.2f}%\n",
    "\n",
    "Proportion of putative barcodes with minQ >= 15: {np.mean(putative_bc_d.putative_bc_min_q>=15)*100:.2f}% \n",
    "Accuracy of putative barcodes with minQ >= 15: {putative_bc_d[putative_bc_d.putative_bc_min_q>=15].BC_correctness.mean()*100:.2f}%\n",
    "\n",
    "Proportion of putative barcodes with minQ >= 7: {np.mean(putative_bc_d.putative_bc_min_q>=7)*100:.2f}% \n",
    "Accuracy of putative barcodes with minQ >= 7: {putative_bc_d[putative_bc_d.putative_bc_min_q>=7].BC_correctness.mean()*100:.2f}%\n",
    "\"\"\")"
   ]
  },
  {
   "cell_type": "markdown",
   "id": "cfddb619",
   "metadata": {},
   "source": [
    "### Generate the whitelist"
   ]
  },
  {
   "cell_type": "markdown",
   "id": "4111fcb4",
   "metadata": {},
   "source": [
    "The default minQ threshold 15 for real data. However, the 15 seems not to be a realitic value for this simulted data. I use try 7."
   ]
  },
  {
   "cell_type": "code",
   "execution_count": 10,
   "id": "ebb3d858",
   "metadata": {},
   "outputs": [],
   "source": [
    "# threshold for minQ\n",
    "def tune_minQ(minQ, d):\n",
    "    raw_bc_d_HQ = d[d.putative_bc_min_q >= minQ].putative_bc.value_counts().to_frame()\n",
    "    raw_bc_d_HQ['bc_rank'] = list(range(1,len(raw_bc_d_HQ)+1))\n",
    "    raw_bc_d_HQ.reset_index(inplace=True)\n",
    "    raw_bc_d_HQ = raw_bc_d_HQ.rename(columns = {'index':'BC', 'raw_bc':'counts'})\n",
    "    rst_d = raw_bc_d_HQ[raw_bc_d_HQ.BC.isin(whole_whitelist)]\n",
    "    rst_d.reset_index(inplace=True)\n",
    "    return rst_d\n",
    "\n",
    "# use default threshold 15 \n",
    "putative_bc_d_minQ15_filtered = tune_minQ(15, d = putative_bc_d)"
   ]
  },
  {
   "cell_type": "markdown",
   "id": "bb3c2e51",
   "metadata": {},
   "source": [
    "#### Threshod of count Quantile\n",
    "Applying count threshold manually \n",
    "* Default: 95-percentile of top N cell / 20\n",
    "* High sensitivity (HS) mode: 95-percentile of top N cell / 200"
   ]
  },
  {
   "cell_type": "code",
   "execution_count": 11,
   "id": "13110e8b",
   "metadata": {
    "code_folding": []
   },
   "outputs": [],
   "source": [
    "# Threshold\n",
    "# Default threshod of count Quantile (95-percentile of top N cell / 20)\n",
    "def percentile_count_thres(count_array, exp_cells=None):\n",
    "    if exp_cells:\n",
    "        top_count = np.sort(count_array)[::-1][:exp_cells]\n",
    "        return np.quantile(top_count, 0.95)/20\n",
    "    else:\n",
    "        exp_cells = 0\n",
    "        new_exp_cells = int(len(count_array)/2)\n",
    "        count_array = np.sort(count_array)[::-1]\n",
    "        while exp_cells != new_exp_cells:  \n",
    "            exp_cells = new_exp_cells\n",
    "            \n",
    "            top_count = count_array[:exp_cells]\n",
    "            t = np.quantile(top_count, 0.95)/20\n",
    "\n",
    "            new_exp_cells = (count_array >= t).sum()\n",
    "            print(exp_cells,new_exp_cells, t)\n",
    "        return t\n",
    "\n",
    "threshold = percentile_count_thres(putative_bc_d_minQ15_filtered.putative_bc,500)\n",
    "\n",
    "# high_sensitivity threshold\n",
    "def percentile_count_thres_high_sensitivity(count_array, exp_cells=None):\n",
    "    if exp_cells:\n",
    "        top_count = np.sort(count_array)[::-1][:exp_cells]\n",
    "        return np.quantile(top_count, 0.95)/200\n",
    "    else:\n",
    "        exp_cells = 0\n",
    "        new_exp_cells = int(len(count_array)/2)\n",
    "        count_array = np.sort(count_array)[::-1]\n",
    "        while exp_cells != new_exp_cells:  \n",
    "            exp_cells = new_exp_cells\n",
    "            \n",
    "            top_count = count_array[:exp_cells]\n",
    "            t = np.quantile(top_count, 0.95)/200\n",
    "\n",
    "            new_exp_cells = (count_array >= t).sum()\n",
    "            print(exp_cells,new_exp_cells, t)\n",
    "        return t\n",
    "\n",
    "threshold_high_sen = percentile_count_thres_high_sensitivity(putative_bc_d_minQ15_filtered.putative_bc,500)"
   ]
  },
  {
   "cell_type": "markdown",
   "id": "6cbaadfb",
   "metadata": {},
   "source": [
    "The expected number of cell is set to 500 but the result is not sensitive to the number:"
   ]
  },
  {
   "cell_type": "markdown",
   "id": "ed81a3fc",
   "metadata": {},
   "source": [
    "## Sockeye"
   ]
  },
  {
   "cell_type": "markdown",
   "id": "32c65008",
   "metadata": {},
   "source": [
    "### Loading sockeye whitelist and check the agreement"
   ]
  },
  {
   "cell_type": "code",
   "execution_count": 15,
   "id": "c8fdb2b8",
   "metadata": {
    "code_folding": []
   },
   "outputs": [],
   "source": [
    "# load sockeye whitelist\n",
    "sock_whitelist = set(pd.read_csv(sock_whitelist, header = None)[0])\n",
    "\n",
    "# sockeye raw count\n",
    "sock_count = pd.read_csv(sock_count, header = None, sep = '\\t', names = ['BC', 'counts'])\n",
    "\n",
    "# sort the count\n",
    "sock_count = sock_count.sort_values(by=['counts'], ascending = False)"
   ]
  },
  {
   "cell_type": "markdown",
   "id": "70339b2b",
   "metadata": {},
   "source": [
    "## PRC plot"
   ]
  },
  {
   "cell_type": "code",
   "execution_count": 24,
   "id": "5aaf6c00",
   "metadata": {},
   "outputs": [],
   "source": [
    "from sklearn.metrics import precision_recall_curve\n",
    "\n",
    "missing_bc =  [1]* len(cr_filtered_bc - set(putative_bc_d_minQ15_filtered.BC))\n",
    "missing_bc_count = [0] * len(missing_bc)\n",
    "blaze_pre,blaze_recall , blaze_thresholds =\\\n",
    "                            precision_recall_curve([int(x in cr_filtered_bc) for x in putative_bc_d_minQ15_filtered.BC] + missing_bc,\n",
    "                                                   list(putative_bc_d_minQ15_filtered.putative_bc) + missing_bc_count)\n",
    "\n",
    "\n",
    "\n",
    "missing_bc =  [1]* len(cr_filtered_bc - set(sock_count.BC))\n",
    "missing_bc = [1] * len(missing_bc)\n",
    "missing_bc_count = [0] * len(missing_bc)\n",
    "sockeye_pre,sockeye_recall , sockeye_thresholds =\\\n",
    "                            precision_recall_curve([int(x in cr_filtered_bc) for x in sock_count.BC] + missing_bc,\n",
    "                                                   list(sock_count.counts)+missing_bc_count)\n"
   ]
  },
  {
   "cell_type": "code",
   "execution_count": 55,
   "id": "036f9abf",
   "metadata": {},
   "outputs": [
    {
     "name": "stderr",
     "output_type": "stream",
     "text": [
      "/tmp/ipykernel_13238/3493766576.py:20: UserWarning: marker is redundantly defined by the 'marker' keyword argument and the fmt string \"o\" (-> marker='o'). The keyword argument will take precedence.\n",
      "  ax.plot([blz_re], [blz_p],'o',  color='c',markersize=6, label='BLAZE default threshold', marker = 'x' )\n",
      "/tmp/ipykernel_13238/3493766576.py:21: UserWarning: marker is redundantly defined by the 'marker' keyword argument and the fmt string \"o\" (-> marker='o'). The keyword argument will take precedence.\n",
      "  ax.plot([sock_re], [sock_p],'o',   color='orange',markersize=6, label='Sockeye default threshold', marker = 'x' )\n",
      "/tmp/ipykernel_13238/3493766576.py:22: UserWarning: marker is redundantly defined by the 'marker' keyword argument and the fmt string \"o\" (-> marker='o'). The keyword argument will take precedence.\n",
      "  ax.plot([blz_hi_re], [blz_hi_p], 'o', color='c', markersize=6, label='BLAZE HS mode' , marker = '^' )\n"
     ]
    },
    {
     "data": {
      "image/png": "[encoded data removed]",
      "text/plain": [
       "<Figure size 360x360 with 1 Axes>"
      ]
     },
     "metadata": {
      "needs_background": "light"
     },
     "output_type": "display_data"
    }
   ],
   "source": [
    "from sklearn.metrics import auc\n",
    "#create precision recall curve\n",
    "\n",
    "sock_p  = len(cr_filtered_bc&sock_whitelist)/len(sock_whitelist)\n",
    "sock_re = len(cr_filtered_bc&sock_whitelist)/len(cr_filtered_bc)\n",
    "blz_p = len(cr_filtered_bc&passed_bc)/len(passed_bc)\n",
    "blz_re = len(cr_filtered_bc&passed_bc)/len(cr_filtered_bc)\n",
    "blz_hi_p = len(cr_filtered_bc&passed_bc_hs)/len(passed_bc_hs)\n",
    "blz_hi_re = len(cr_filtered_bc&passed_bc_hs)/len(cr_filtered_bc)\n",
    "\n",
    "\n",
    "fig, ax = plt.subplots(figsize = (5,5))\n",
    "ax.plot(blaze_recall, blaze_pre, \n",
    "        label = f'BLAZE (AUC:{auc(blaze_recall,blaze_pre):.4f})', color='c')\n",
    "\n",
    "ax.plot(sockeye_recall, sockeye_pre, \n",
    "        label = f'Sockeye (AUC:{auc(sockeye_recall, sockeye_pre):.4f})', color='orange')\n",
    "\n",
    "\n",
    "ax.plot([blz_re], [blz_p],'o',  color='c',markersize=6, label='BLAZE default threshold', marker = 'x' )\n",
    "ax.plot([sock_re], [sock_p],'o',   color='orange',markersize=6, label='Sockeye default threshold', marker = 'x' )\n",
    "ax.plot([blz_hi_re], [blz_hi_p], 'o', color='c', markersize=6, label='BLAZE HS mode' , marker = '^' )\n",
    "ax.legend()\n",
    "ax.set_title('Precision-Recall Curve')\n",
    "ax.set_ylabel('Precision')\n",
    "ax.set_xlabel('Recall')\n",
    "ax.set_xlim(0.75,1.01)\n",
    "\n",
    "\n",
    "\n",
    "\n",
    "#display plot\n",
    "plt.savefig('sim_zoomin.svg', format='svg')\n",
    "plt.show()"
   ]
  }
 ],
 "metadata": {
  "celltoolbar": "Raw Cell Format",
  "kernelspec": {
   "display_name": "Python [conda env:analysis]",
   "language": "python",
   "name": "conda-env-analysis-py"
  },
  "language_info": {
   "codemirror_mode": {
    "name": "ipython",
    "version": 3
   },
   "file_extension": ".py",
   "mimetype": "text/x-python",
   "name": "python",
   "nbconvert_exporter": "python",
   "pygments_lexer": "ipython3",
   "version": "3.10.4"
  },
  "toc": {
   "base_numbering": 1,
   "nav_menu": {},
   "number_sections": true,
   "sideBar": true,
   "skip_h1_title": false,
   "title_cell": "Table of Contents",
   "title_sidebar": "Contents",
   "toc_cell": false,
   "toc_position": {
    "height": "calc(100% - 180px)",
    "left": "10px",
    "top": "150px",
    "width": "165px"
   },
   "toc_section_display": true,
   "toc_window_display": true
  },
  "varInspector": {
   "cols": {
    "lenName": 16,
    "lenType": 16,
    "lenVar": 40
   },
   "kernels_config": {
    "python": {
     "delete_cmd_postfix": "",
     "delete_cmd_prefix": "del ",
     "library": "var_list.py",
     "varRefreshCmd": "print(var_dic_list())"
    },
    "r": {
     "delete_cmd_postfix": ") ",
     "delete_cmd_prefix": "rm(",
     "library": "var_list.r",
     "varRefreshCmd": "cat(var_dic_list()) "
    }
   },
   "types_to_exclude": [
    "module",
    "function",
    "builtin_function_or_method",
    "instance",
    "_Feature"
   ],
   "window_display": false
  }
 },
 "nbformat": 4,
 "nbformat_minor": 5
}
